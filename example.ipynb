{
 "cells": [
  {
   "cell_type": "code",
   "execution_count": 1,
   "metadata": {},
   "outputs": [
    {
     "name": "stderr",
     "output_type": "stream",
     "text": [
      "/opt/anaconda3/envs/torch/lib/python3.11/site-packages/tqdm/auto.py:21: TqdmWarning: IProgress not found. Please update jupyter and ipywidgets. See https://ipywidgets.readthedocs.io/en/stable/user_install.html\n",
      "  from .autonotebook import tqdm as notebook_tqdm\n"
     ]
    }
   ],
   "source": [
    "from transformers import AutoConfig, AutoTokenizer, AutoModel, BertForSequenceClassification\n",
    "from data.acronymDataset import AcronymDataset\n",
    "from evaluate import load\n",
    "import numpy as np\n",
    "import torch"
   ]
  },
  {
   "cell_type": "code",
   "execution_count": 2,
   "metadata": {},
   "outputs": [
    {
     "name": "stderr",
     "output_type": "stream",
     "text": [
      "Some weights of the model checkpoint at microsoft/BiomedNLP-PubMedBERT-base-uncased-abstract-fulltext were not used when initializing BertModel: ['cls.predictions.transform.LayerNorm.weight', 'cls.predictions.transform.LayerNorm.bias', 'cls.predictions.decoder.bias', 'cls.seq_relationship.weight', 'cls.seq_relationship.bias', 'cls.predictions.decoder.weight', 'cls.predictions.transform.dense.weight', 'cls.predictions.bias', 'cls.predictions.transform.dense.bias']\n",
      "- This IS expected if you are initializing BertModel from the checkpoint of a model trained on another task or with another architecture (e.g. initializing a BertForSequenceClassification model from a BertForPreTraining model).\n",
      "- This IS NOT expected if you are initializing BertModel from the checkpoint of a model that you expect to be exactly identical (initializing a BertForSequenceClassification model from a BertForSequenceClassification model).\n"
     ]
    }
   ],
   "source": [
    "model_name = 'microsoft/BiomedNLP-PubMedBERT-base-uncased-abstract-fulltext'\n",
    "config = AutoConfig.from_pretrained(model_name)\n",
    "tokenizer = AutoTokenizer.from_pretrained(model_name, model_max_length=config.max_position_embeddings)\n",
    "pre_trained_model = AutoModel.from_pretrained(model_name).to('mps')"
   ]
  },
  {
   "attachments": {},
   "cell_type": "markdown",
   "metadata": {},
   "source": [
    "Test with the data"
   ]
  },
  {
   "cell_type": "code",
   "execution_count": 15,
   "metadata": {},
   "outputs": [],
   "source": [
    "# %load_ext autoreload\n",
    "# %autoreload 2\n",
    "torch.manual_seed(5)\n",
    "file_path = 'data/acronym_data.txt'\n",
    "dataset = AcronymDataset(file_path=file_path, tokenizer=tokenizer)\n",
    "data = dataset.data"
   ]
  },
  {
   "cell_type": "code",
   "execution_count": 16,
   "metadata": {},
   "outputs": [
    {
     "name": "stderr",
     "output_type": "stream",
     "text": [
      "                                                                   \r"
     ]
    }
   ],
   "source": [
    "dataset.preprocss_dataset()"
   ]
  },
  {
   "cell_type": "code",
   "execution_count": 33,
   "metadata": {},
   "outputs": [],
   "source": [
    "train_loader, val_loader = dataset.get_dataloaders(train_size=0.9, batch_size=32)"
   ]
  },
  {
   "cell_type": "code",
   "execution_count": 35,
   "metadata": {},
   "outputs": [],
   "source": [
    "batch = next(iter(train_loader)).to('mps')"
   ]
  },
  {
   "cell_type": "code",
   "execution_count": 36,
   "metadata": {},
   "outputs": [],
   "source": [
    "# %load_ext autoreload\n",
    "# %autoreload 2\n",
    "from models.multiHeadModel import MultiHeadModel\n",
    "from models.heads import ClassificationHead"
   ]
  },
  {
   "cell_type": "code",
   "execution_count": 37,
   "metadata": {},
   "outputs": [],
   "source": [
    "in_features = config.hidden_size\n",
    "two_labels_head = ClassificationHead(in_features=in_features, out_features=2).to('mps')\n",
    "four_labels_head = ClassificationHead(in_features=in_features, out_features=4)\n",
    "\n",
    "classifiers = {\n",
    "    \"two_labels_head\": two_labels_head,\n",
    "    \"four_labels_head\": four_labels_head\n",
    "}"
   ]
  },
  {
   "cell_type": "code",
   "execution_count": 38,
   "metadata": {},
   "outputs": [
    {
     "data": {
      "text/plain": [
       "MultiHeadModel(\n",
       "  (base_model): BertModel(\n",
       "    (embeddings): BertEmbeddings(\n",
       "      (word_embeddings): Embedding(30522, 768, padding_idx=0)\n",
       "      (position_embeddings): Embedding(512, 768)\n",
       "      (token_type_embeddings): Embedding(2, 768)\n",
       "      (LayerNorm): LayerNorm((768,), eps=1e-12, elementwise_affine=True)\n",
       "      (dropout): Dropout(p=0.1, inplace=False)\n",
       "    )\n",
       "    (encoder): BertEncoder(\n",
       "      (layer): ModuleList(\n",
       "        (0-11): 12 x BertLayer(\n",
       "          (attention): BertAttention(\n",
       "            (self): BertSelfAttention(\n",
       "              (query): Linear(in_features=768, out_features=768, bias=True)\n",
       "              (key): Linear(in_features=768, out_features=768, bias=True)\n",
       "              (value): Linear(in_features=768, out_features=768, bias=True)\n",
       "              (dropout): Dropout(p=0.1, inplace=False)\n",
       "            )\n",
       "            (output): BertSelfOutput(\n",
       "              (dense): Linear(in_features=768, out_features=768, bias=True)\n",
       "              (LayerNorm): LayerNorm((768,), eps=1e-12, elementwise_affine=True)\n",
       "              (dropout): Dropout(p=0.1, inplace=False)\n",
       "            )\n",
       "          )\n",
       "          (intermediate): BertIntermediate(\n",
       "            (dense): Linear(in_features=768, out_features=3072, bias=True)\n",
       "            (intermediate_act_fn): GELUActivation()\n",
       "          )\n",
       "          (output): BertOutput(\n",
       "            (dense): Linear(in_features=3072, out_features=768, bias=True)\n",
       "            (LayerNorm): LayerNorm((768,), eps=1e-12, elementwise_affine=True)\n",
       "            (dropout): Dropout(p=0.1, inplace=False)\n",
       "          )\n",
       "        )\n",
       "      )\n",
       "    )\n",
       "    (pooler): BertPooler(\n",
       "      (dense): Linear(in_features=768, out_features=768, bias=True)\n",
       "      (activation): Tanh()\n",
       "    )\n",
       "  )\n",
       ")"
      ]
     },
     "execution_count": 38,
     "metadata": {},
     "output_type": "execute_result"
    }
   ],
   "source": [
    "multi_head_model = MultiHeadModel(pre_trained_model, classifiers)\n",
    "multi_head_model.eval()"
   ]
  },
  {
   "cell_type": "code",
   "execution_count": 39,
   "metadata": {},
   "outputs": [
    {
     "name": "stderr",
     "output_type": "stream",
     "text": [
      "/Users/nivamos/Desktop/files/development/Enhancing-By-Subtasks-Components/models/heads.py:19: UserWarning: Implicit dimension choice for softmax has been deprecated. Change the call to include dim=X as an argument.\n",
      "  outputs = self.softmax(outputs)\n"
     ]
    },
    {
     "data": {
      "text/plain": [
       "tensor([[0.5303, 0.4697],\n",
       "        [0.5329, 0.4671],\n",
       "        [0.4897, 0.5103],\n",
       "        [0.4436, 0.5564],\n",
       "        [0.5175, 0.4825],\n",
       "        [0.5449, 0.4551],\n",
       "        [0.4937, 0.5063],\n",
       "        [0.4788, 0.5212],\n",
       "        [0.5149, 0.4851],\n",
       "        [0.5900, 0.4100],\n",
       "        [0.5228, 0.4772],\n",
       "        [0.6227, 0.3773],\n",
       "        [0.5340, 0.4660],\n",
       "        [0.4660, 0.5340],\n",
       "        [0.6012, 0.3988],\n",
       "        [0.4931, 0.5069],\n",
       "        [0.5604, 0.4396],\n",
       "        [0.4873, 0.5127],\n",
       "        [0.4541, 0.5459],\n",
       "        [0.4920, 0.5080],\n",
       "        [0.5474, 0.4526],\n",
       "        [0.4705, 0.5295],\n",
       "        [0.5807, 0.4193],\n",
       "        [0.5773, 0.4227],\n",
       "        [0.5777, 0.4223],\n",
       "        [0.5863, 0.4137],\n",
       "        [0.5365, 0.4635],\n",
       "        [0.5073, 0.4927],\n",
       "        [0.5101, 0.4899],\n",
       "        [0.5746, 0.4254],\n",
       "        [0.5234, 0.4766],\n",
       "        [0.4840, 0.5160]], device='mps:0')"
      ]
     },
     "execution_count": 39,
     "metadata": {},
     "output_type": "execute_result"
    }
   ],
   "source": [
    "\n",
    "with torch.no_grad():\n",
    "    output = multi_head_model(batch, \"two_labels_head\")\n",
    "\n",
    "output"
   ]
  },
  {
   "cell_type": "code",
   "execution_count": 41,
   "metadata": {},
   "outputs": [
    {
     "data": {
      "text/plain": [
       "{'accuracy': 0.34375}"
      ]
     },
     "execution_count": 41,
     "metadata": {},
     "output_type": "execute_result"
    }
   ],
   "source": [
    "metric = load(\"accuracy\")\n",
    "labels = batch['labels']\n",
    "predictions = np.argmax(output.cpu().numpy(), axis=-1)\n",
    "res = metric.compute(predictions=predictions, references=labels)\n",
    "\n",
    "res"
   ]
  },
  {
   "cell_type": "code",
   "execution_count": 55,
   "metadata": {},
   "outputs": [
    {
     "name": "stdout",
     "output_type": "stream",
     "text": [
      "The autoreload extension is already loaded. To reload it, use:\n",
      "  %reload_ext autoreload\n"
     ]
    },
    {
     "name": "stderr",
     "output_type": "stream",
     "text": [
      "  0%|          | 0/1 [00:00<?, ?it/s]"
     ]
    },
    {
     "name": "stdout",
     "output_type": "stream",
     "text": [
      "torch.Size([16, 388]) two_labels_head\n",
      "torch.Size([32, 392]) four_labels_head\n",
      "torch.Size([16, 261]) two_labels_head\n",
      "torch.Size([32, 512]) four_labels_head\n",
      "torch.Size([16, 320]) two_labels_head\n",
      "torch.Size([32, 333]) four_labels_head\n",
      "torch.Size([16, 270]) two_labels_head\n",
      "torch.Size([32, 291]) four_labels_head\n",
      "torch.Size([16, 400]) two_labels_head\n",
      "torch.Size([32, 420]) four_labels_head\n",
      "torch.Size([16, 363]) two_labels_head\n",
      "torch.Size([32, 304]) four_labels_head\n",
      "torch.Size([16, 324]) two_labels_head\n",
      "torch.Size([32, 512]) four_labels_head\n",
      "torch.Size([16, 321]) two_labels_head\n",
      "torch.Size([32, 318]) four_labels_head\n",
      "torch.Size([16, 460]) two_labels_head\n",
      "torch.Size([32, 255]) four_labels_head\n",
      "torch.Size([16, 305]) two_labels_head\n",
      "torch.Size([32, 512]) four_labels_head\n",
      "torch.Size([16, 314]) two_labels_head\n",
      "torch.Size([32, 394]) four_labels_head\n",
      "torch.Size([16, 271]) two_labels_head\n",
      "torch.Size([32, 425]) four_labels_head\n",
      "torch.Size([16, 287]) two_labels_head\n",
      "torch.Size([32, 379]) four_labels_head\n",
      "torch.Size([16, 328]) two_labels_head\n",
      "torch.Size([32, 358]) four_labels_head\n",
      "torch.Size([16, 270]) two_labels_head\n",
      "torch.Size([32, 272]) four_labels_head\n",
      "torch.Size([16, 293]) two_labels_head\n",
      "torch.Size([32, 330]) four_labels_head\n",
      "torch.Size([16, 312]) two_labels_head\n",
      "torch.Size([32, 512]) four_labels_head\n",
      "torch.Size([16, 291]) two_labels_head\n",
      "torch.Size([32, 315]) four_labels_head\n",
      "torch.Size([16, 267]) two_labels_head\n",
      "torch.Size([32, 299]) four_labels_head\n",
      "torch.Size([16, 455]) two_labels_head\n",
      "torch.Size([32, 342]) four_labels_head\n",
      "torch.Size([16, 322]) two_labels_head\n",
      "torch.Size([32, 512]) four_labels_head\n",
      "torch.Size([16, 260]) two_labels_head\n",
      "torch.Size([32, 371]) four_labels_head\n",
      "torch.Size([16, 259]) two_labels_head\n",
      "torch.Size([32, 512]) four_labels_head\n",
      "torch.Size([16, 278]) two_labels_head\n",
      "torch.Size([32, 359]) four_labels_head\n",
      "torch.Size([16, 273]) two_labels_head\n",
      "torch.Size([32, 512]) four_labels_head\n",
      "torch.Size([16, 311]) two_labels_head\n",
      "torch.Size([32, 307]) four_labels_head\n",
      "torch.Size([16, 281]) two_labels_head\n",
      "torch.Size([32, 309]) four_labels_head\n",
      "torch.Size([16, 427]) two_labels_head\n",
      "torch.Size([32, 284]) four_labels_head\n",
      "torch.Size([16, 392]) two_labels_head\n",
      "torch.Size([32, 334]) four_labels_head\n",
      "torch.Size([16, 298]) two_labels_head\n",
      "torch.Size([32, 337]) four_labels_head\n",
      "torch.Size([16, 358]) two_labels_head\n",
      "torch.Size([32, 441]) four_labels_head\n",
      "torch.Size([16, 263]) two_labels_head\n",
      "torch.Size([32, 314]) four_labels_head\n",
      "torch.Size([16, 268]) two_labels_head\n",
      "torch.Size([32, 463]) four_labels_head\n",
      "torch.Size([16, 288]) two_labels_head\n",
      "torch.Size([32, 333]) four_labels_head\n",
      "torch.Size([16, 288]) two_labels_head\n",
      "torch.Size([32, 296]) four_labels_head\n",
      "torch.Size([16, 289]) two_labels_head\n",
      "torch.Size([32, 305]) four_labels_head\n",
      "torch.Size([16, 262]) two_labels_head\n",
      "torch.Size([32, 314]) four_labels_head\n",
      "torch.Size([16, 323]) two_labels_head\n",
      "torch.Size([32, 253]) four_labels_head\n",
      "torch.Size([16, 333]) two_labels_head\n",
      "torch.Size([32, 512]) four_labels_head\n",
      "torch.Size([16, 314]) two_labels_head\n",
      "torch.Size([32, 314]) four_labels_head\n",
      "torch.Size([16, 264]) two_labels_head\n",
      "torch.Size([32, 328]) four_labels_head\n",
      "torch.Size([16, 370]) two_labels_head\n",
      "torch.Size([32, 333]) four_labels_head\n",
      "torch.Size([16, 512]) two_labels_head\n",
      "torch.Size([32, 309]) four_labels_head\n",
      "torch.Size([16, 245]) two_labels_head\n",
      "torch.Size([32, 441]) four_labels_head\n",
      "torch.Size([16, 317]) two_labels_head\n",
      "torch.Size([32, 304]) four_labels_head\n",
      "torch.Size([16, 384]) two_labels_head\n",
      "torch.Size([32, 512]) four_labels_head\n",
      "torch.Size([16, 335]) two_labels_head\n",
      "torch.Size([32, 408]) four_labels_head\n",
      "torch.Size([16, 274]) two_labels_head\n",
      "torch.Size([32, 461]) four_labels_head\n",
      "torch.Size([16, 361]) two_labels_head\n",
      "torch.Size([32, 293]) four_labels_head\n",
      "torch.Size([16, 319]) two_labels_head\n",
      "torch.Size([32, 342]) four_labels_head\n",
      "torch.Size([16, 301]) two_labels_head\n",
      "torch.Size([32, 339]) four_labels_head\n",
      "torch.Size([16, 274]) two_labels_head\n",
      "torch.Size([32, 512]) four_labels_head\n",
      "torch.Size([16, 390]) two_labels_head\n",
      "torch.Size([32, 270]) four_labels_head\n",
      "torch.Size([16, 270]) two_labels_head\n",
      "torch.Size([32, 310]) four_labels_head\n",
      "torch.Size([16, 280]) two_labels_head\n",
      "torch.Size([32, 355]) four_labels_head\n",
      "torch.Size([16, 295]) two_labels_head\n",
      "torch.Size([32, 303]) four_labels_head\n",
      "torch.Size([16, 283]) two_labels_head\n",
      "torch.Size([32, 357]) four_labels_head\n",
      "torch.Size([16, 303]) two_labels_head\n",
      "torch.Size([32, 302]) four_labels_head\n",
      "torch.Size([16, 259]) two_labels_head\n",
      "torch.Size([32, 512]) four_labels_head\n",
      "torch.Size([16, 287]) two_labels_head\n",
      "torch.Size([32, 386]) four_labels_head\n",
      "torch.Size([16, 273]) two_labels_head\n",
      "torch.Size([32, 455]) four_labels_head\n",
      "torch.Size([16, 436]) two_labels_head\n",
      "torch.Size([32, 407]) four_labels_head\n",
      "torch.Size([16, 291]) two_labels_head\n",
      "torch.Size([32, 313]) four_labels_head\n",
      "torch.Size([16, 320]) two_labels_head\n",
      "torch.Size([32, 318]) four_labels_head\n",
      "torch.Size([16, 417]) two_labels_head\n",
      "torch.Size([32, 321]) four_labels_head\n",
      "torch.Size([16, 240]) two_labels_head\n",
      "torch.Size([32, 346]) four_labels_head\n",
      "torch.Size([16, 238]) two_labels_head\n",
      "torch.Size([32, 495]) four_labels_head\n",
      "torch.Size([16, 311]) two_labels_head\n",
      "torch.Size([32, 380]) four_labels_head\n",
      "torch.Size([16, 379]) two_labels_head\n",
      "torch.Size([32, 453]) four_labels_head\n",
      "torch.Size([16, 293]) two_labels_head\n",
      "torch.Size([32, 351]) four_labels_head\n",
      "torch.Size([16, 280]) two_labels_head\n",
      "torch.Size([32, 313]) four_labels_head\n",
      "torch.Size([16, 292]) two_labels_head\n",
      "torch.Size([32, 330]) four_labels_head\n",
      "torch.Size([16, 288]) two_labels_head\n",
      "torch.Size([32, 512]) four_labels_head\n",
      "torch.Size([16, 347]) two_labels_head\n",
      "torch.Size([32, 390]) four_labels_head\n",
      "torch.Size([16, 370]) two_labels_head\n",
      "torch.Size([32, 282]) four_labels_head\n",
      "torch.Size([16, 273]) two_labels_head\n",
      "torch.Size([32, 332]) four_labels_head\n",
      "torch.Size([16, 227]) two_labels_head\n",
      "torch.Size([32, 264]) four_labels_head\n",
      "torch.Size([16, 240]) two_labels_head\n",
      "torch.Size([32, 284]) four_labels_head\n",
      "torch.Size([16, 327]) two_labels_head\n",
      "torch.Size([32, 232]) four_labels_head\n",
      "torch.Size([16, 512]) two_labels_head\n",
      "torch.Size([32, 353]) four_labels_head\n",
      "torch.Size([16, 269]) two_labels_head\n",
      "torch.Size([32, 340]) four_labels_head\n",
      "torch.Size([16, 275]) two_labels_head\n",
      "torch.Size([32, 512]) four_labels_head\n",
      "torch.Size([16, 263]) two_labels_head\n",
      "torch.Size([32, 372]) four_labels_head\n",
      "torch.Size([16, 312]) two_labels_head\n",
      "torch.Size([32, 312]) four_labels_head\n",
      "torch.Size([16, 394]) two_labels_head\n",
      "torch.Size([32, 377]) four_labels_head\n",
      "torch.Size([16, 379]) two_labels_head\n",
      "torch.Size([32, 430]) four_labels_head\n",
      "torch.Size([16, 247]) two_labels_head\n",
      "torch.Size([32, 512]) four_labels_head\n",
      "torch.Size([16, 313]) two_labels_head\n",
      "torch.Size([32, 303]) four_labels_head\n",
      "torch.Size([16, 265]) two_labels_head\n",
      "torch.Size([32, 269]) four_labels_head\n",
      "torch.Size([16, 281]) two_labels_head\n",
      "torch.Size([32, 279]) four_labels_head\n",
      "torch.Size([16, 303]) two_labels_head\n",
      "torch.Size([32, 332]) four_labels_head\n",
      "torch.Size([16, 358]) two_labels_head\n",
      "torch.Size([32, 318]) four_labels_head\n",
      "torch.Size([16, 247]) two_labels_head\n",
      "torch.Size([32, 417]) four_labels_head\n",
      "torch.Size([16, 308]) two_labels_head\n",
      "torch.Size([32, 307]) four_labels_head\n",
      "torch.Size([16, 272]) two_labels_head\n",
      "torch.Size([32, 512]) four_labels_head\n",
      "torch.Size([16, 506]) two_labels_head\n",
      "torch.Size([32, 317]) four_labels_head\n",
      "torch.Size([16, 274]) two_labels_head\n",
      "torch.Size([32, 311]) four_labels_head\n",
      "torch.Size([16, 321]) two_labels_head\n",
      "torch.Size([32, 355]) four_labels_head\n",
      "torch.Size([16, 273]) two_labels_head\n",
      "torch.Size([32, 334]) four_labels_head\n",
      "torch.Size([16, 309]) two_labels_head\n",
      "torch.Size([32, 321]) four_labels_head\n",
      "torch.Size([16, 296]) two_labels_head\n",
      "torch.Size([32, 266]) four_labels_head\n",
      "torch.Size([16, 367]) two_labels_head\n",
      "torch.Size([32, 278]) four_labels_head\n",
      "torch.Size([16, 279]) two_labels_head\n",
      "torch.Size([32, 350]) four_labels_head\n",
      "torch.Size([16, 365]) two_labels_head\n",
      "torch.Size([32, 333]) four_labels_head\n",
      "torch.Size([16, 362]) two_labels_head\n",
      "torch.Size([32, 491]) four_labels_head\n",
      "torch.Size([16, 403]) two_labels_head\n",
      "torch.Size([32, 323]) four_labels_head\n",
      "torch.Size([16, 349]) two_labels_head\n",
      "torch.Size([32, 270]) four_labels_head\n",
      "torch.Size([16, 252]) two_labels_head\n",
      "torch.Size([32, 391]) four_labels_head\n"
     ]
    },
    {
     "name": "stderr",
     "output_type": "stream",
     "text": [
      "  0%|          | 0/1 [00:02<?, ?it/s]"
     ]
    },
    {
     "name": "stdout",
     "output_type": "stream",
     "text": [
      "torch.Size([16, 367]) two_labels_head\n",
      "torch.Size([32, 388]) four_labels_head\n",
      "torch.Size([16, 340]) two_labels_head\n",
      "torch.Size([32, 512]) four_labels_head\n",
      "torch.Size([16, 355]) two_labels_head\n",
      "torch.Size([32, 297]) four_labels_head\n"
     ]
    },
    {
     "name": "stderr",
     "output_type": "stream",
     "text": [
      "\n"
     ]
    },
    {
     "ename": "KeyboardInterrupt",
     "evalue": "",
     "output_type": "error",
     "traceback": [
      "\u001b[0;31m---------------------------------------------------------------------------\u001b[0m",
      "\u001b[0;31mKeyboardInterrupt\u001b[0m                         Traceback (most recent call last)",
      "Cell \u001b[0;32mIn[55], line 21\u001b[0m\n\u001b[1;32m      8\u001b[0m train_args \u001b[39m=\u001b[39m {\n\u001b[1;32m      9\u001b[0m     \u001b[39m\"\u001b[39m\u001b[39mepochs\u001b[39m\u001b[39m\"\u001b[39m: \u001b[39m1\u001b[39m\n\u001b[1;32m     10\u001b[0m }\n\u001b[1;32m     12\u001b[0m heads_props \u001b[39m=\u001b[39m {\n\u001b[1;32m     13\u001b[0m     \u001b[39m\"\u001b[39m\u001b[39mtwo_labels_head\u001b[39m\u001b[39m\"\u001b[39m: {\n\u001b[1;32m     14\u001b[0m         \u001b[39m\"\u001b[39m\u001b[39mtrain_loader\u001b[39m\u001b[39m\"\u001b[39m: train_loader1\n\u001b[0;32m   (...)\u001b[0m\n\u001b[1;32m     18\u001b[0m     }\n\u001b[1;32m     19\u001b[0m }\n\u001b[0;32m---> 21\u001b[0m train(multi_head_model, heads_props, train_args)\n",
      "File \u001b[0;32m~/Desktop/files/development/Enhancing-By-Subtasks-Components/utils/train.py:18\u001b[0m, in \u001b[0;36mtrain\u001b[0;34m(multi_head_model, heads_props, train_args)\u001b[0m\n\u001b[1;32m     14\u001b[0m \u001b[39mfor\u001b[39;00m epoch \u001b[39min\u001b[39;00m tqdm(\u001b[39mrange\u001b[39m(train_args[\u001b[39m\"\u001b[39m\u001b[39mepochs\u001b[39m\u001b[39m\"\u001b[39m])):\n\u001b[1;32m     15\u001b[0m     \u001b[39m# create the data loaders list, and iterate the batchs simultaneously\u001b[39;00m\n\u001b[1;32m     16\u001b[0m     head_prop \u001b[39m=\u001b[39m [head_prop[\u001b[39m'\u001b[39m\u001b[39mtrain_loader\u001b[39m\u001b[39m'\u001b[39m] \u001b[39mfor\u001b[39;00m head_prop \u001b[39min\u001b[39;00m heads_props\u001b[39m.\u001b[39mvalues()]\n\u001b[0;32m---> 18\u001b[0m     \u001b[39mfor\u001b[39;00m i, combined_batch \u001b[39min\u001b[39;00m \u001b[39menumerate\u001b[39m(\u001b[39mzip\u001b[39m(\u001b[39m*\u001b[39mhead_prop)):\n\u001b[1;32m     19\u001b[0m         \u001b[39mfor\u001b[39;00m task_batch, head_name \u001b[39min\u001b[39;00m \u001b[39mzip\u001b[39m(combined_batch, heads_props\u001b[39m.\u001b[39mkeys()):\n\u001b[1;32m     20\u001b[0m             \u001b[39mprint\u001b[39m(task_batch\u001b[39m.\u001b[39minput_ids\u001b[39m.\u001b[39mshape, head_name)\n",
      "File \u001b[0;32m/opt/anaconda3/envs/torch/lib/python3.11/site-packages/torch/utils/data/dataloader.py:633\u001b[0m, in \u001b[0;36m_BaseDataLoaderIter.__next__\u001b[0;34m(self)\u001b[0m\n\u001b[1;32m    630\u001b[0m \u001b[39mif\u001b[39;00m \u001b[39mself\u001b[39m\u001b[39m.\u001b[39m_sampler_iter \u001b[39mis\u001b[39;00m \u001b[39mNone\u001b[39;00m:\n\u001b[1;32m    631\u001b[0m     \u001b[39m# TODO(https://github.com/pytorch/pytorch/issues/76750)\u001b[39;00m\n\u001b[1;32m    632\u001b[0m     \u001b[39mself\u001b[39m\u001b[39m.\u001b[39m_reset()  \u001b[39m# type: ignore[call-arg]\u001b[39;00m\n\u001b[0;32m--> 633\u001b[0m data \u001b[39m=\u001b[39m \u001b[39mself\u001b[39;49m\u001b[39m.\u001b[39;49m_next_data()\n\u001b[1;32m    634\u001b[0m \u001b[39mself\u001b[39m\u001b[39m.\u001b[39m_num_yielded \u001b[39m+\u001b[39m\u001b[39m=\u001b[39m \u001b[39m1\u001b[39m\n\u001b[1;32m    635\u001b[0m \u001b[39mif\u001b[39;00m \u001b[39mself\u001b[39m\u001b[39m.\u001b[39m_dataset_kind \u001b[39m==\u001b[39m _DatasetKind\u001b[39m.\u001b[39mIterable \u001b[39mand\u001b[39;00m \\\n\u001b[1;32m    636\u001b[0m         \u001b[39mself\u001b[39m\u001b[39m.\u001b[39m_IterableDataset_len_called \u001b[39mis\u001b[39;00m \u001b[39mnot\u001b[39;00m \u001b[39mNone\u001b[39;00m \u001b[39mand\u001b[39;00m \\\n\u001b[1;32m    637\u001b[0m         \u001b[39mself\u001b[39m\u001b[39m.\u001b[39m_num_yielded \u001b[39m>\u001b[39m \u001b[39mself\u001b[39m\u001b[39m.\u001b[39m_IterableDataset_len_called:\n",
      "File \u001b[0;32m/opt/anaconda3/envs/torch/lib/python3.11/site-packages/torch/utils/data/dataloader.py:677\u001b[0m, in \u001b[0;36m_SingleProcessDataLoaderIter._next_data\u001b[0;34m(self)\u001b[0m\n\u001b[1;32m    675\u001b[0m \u001b[39mdef\u001b[39;00m \u001b[39m_next_data\u001b[39m(\u001b[39mself\u001b[39m):\n\u001b[1;32m    676\u001b[0m     index \u001b[39m=\u001b[39m \u001b[39mself\u001b[39m\u001b[39m.\u001b[39m_next_index()  \u001b[39m# may raise StopIteration\u001b[39;00m\n\u001b[0;32m--> 677\u001b[0m     data \u001b[39m=\u001b[39m \u001b[39mself\u001b[39;49m\u001b[39m.\u001b[39;49m_dataset_fetcher\u001b[39m.\u001b[39;49mfetch(index)  \u001b[39m# may raise StopIteration\u001b[39;00m\n\u001b[1;32m    678\u001b[0m     \u001b[39mif\u001b[39;00m \u001b[39mself\u001b[39m\u001b[39m.\u001b[39m_pin_memory:\n\u001b[1;32m    679\u001b[0m         data \u001b[39m=\u001b[39m _utils\u001b[39m.\u001b[39mpin_memory\u001b[39m.\u001b[39mpin_memory(data, \u001b[39mself\u001b[39m\u001b[39m.\u001b[39m_pin_memory_device)\n",
      "File \u001b[0;32m/opt/anaconda3/envs/torch/lib/python3.11/site-packages/torch/utils/data/_utils/fetch.py:54\u001b[0m, in \u001b[0;36m_MapDatasetFetcher.fetch\u001b[0;34m(self, possibly_batched_index)\u001b[0m\n\u001b[1;32m     52\u001b[0m \u001b[39melse\u001b[39;00m:\n\u001b[1;32m     53\u001b[0m     data \u001b[39m=\u001b[39m \u001b[39mself\u001b[39m\u001b[39m.\u001b[39mdataset[possibly_batched_index]\n\u001b[0;32m---> 54\u001b[0m \u001b[39mreturn\u001b[39;00m \u001b[39mself\u001b[39;49m\u001b[39m.\u001b[39;49mcollate_fn(data)\n",
      "File \u001b[0;32m/opt/anaconda3/envs/torch/lib/python3.11/site-packages/transformers/data/data_collator.py:249\u001b[0m, in \u001b[0;36mDataCollatorWithPadding.__call__\u001b[0;34m(self, features)\u001b[0m\n\u001b[1;32m    248\u001b[0m \u001b[39mdef\u001b[39;00m \u001b[39m__call__\u001b[39m(\u001b[39mself\u001b[39m, features: List[Dict[\u001b[39mstr\u001b[39m, Any]]) \u001b[39m-\u001b[39m\u001b[39m>\u001b[39m Dict[\u001b[39mstr\u001b[39m, Any]:\n\u001b[0;32m--> 249\u001b[0m     batch \u001b[39m=\u001b[39m \u001b[39mself\u001b[39;49m\u001b[39m.\u001b[39;49mtokenizer\u001b[39m.\u001b[39;49mpad(\n\u001b[1;32m    250\u001b[0m         features,\n\u001b[1;32m    251\u001b[0m         padding\u001b[39m=\u001b[39;49m\u001b[39mself\u001b[39;49m\u001b[39m.\u001b[39;49mpadding,\n\u001b[1;32m    252\u001b[0m         max_length\u001b[39m=\u001b[39;49m\u001b[39mself\u001b[39;49m\u001b[39m.\u001b[39;49mmax_length,\n\u001b[1;32m    253\u001b[0m         pad_to_multiple_of\u001b[39m=\u001b[39;49m\u001b[39mself\u001b[39;49m\u001b[39m.\u001b[39;49mpad_to_multiple_of,\n\u001b[1;32m    254\u001b[0m         return_tensors\u001b[39m=\u001b[39;49m\u001b[39mself\u001b[39;49m\u001b[39m.\u001b[39;49mreturn_tensors,\n\u001b[1;32m    255\u001b[0m     )\n\u001b[1;32m    256\u001b[0m     \u001b[39mif\u001b[39;00m \u001b[39m\"\u001b[39m\u001b[39mlabel\u001b[39m\u001b[39m\"\u001b[39m \u001b[39min\u001b[39;00m batch:\n\u001b[1;32m    257\u001b[0m         batch[\u001b[39m\"\u001b[39m\u001b[39mlabels\u001b[39m\u001b[39m\"\u001b[39m] \u001b[39m=\u001b[39m batch[\u001b[39m\"\u001b[39m\u001b[39mlabel\u001b[39m\u001b[39m\"\u001b[39m]\n",
      "File \u001b[0;32m/opt/anaconda3/envs/torch/lib/python3.11/site-packages/transformers/tokenization_utils_base.py:3002\u001b[0m, in \u001b[0;36mPreTrainedTokenizerBase.pad\u001b[0;34m(self, encoded_inputs, padding, max_length, pad_to_multiple_of, return_attention_mask, return_tensors, verbose)\u001b[0m\n\u001b[1;32m   2996\u001b[0m         \u001b[39mraise\u001b[39;00m \u001b[39mValueError\u001b[39;00m(\n\u001b[1;32m   2997\u001b[0m             \u001b[39mf\u001b[39m\u001b[39m\"\u001b[39m\u001b[39mtype of \u001b[39m\u001b[39m{\u001b[39;00mfirst_element\u001b[39m}\u001b[39;00m\u001b[39m unknown: \u001b[39m\u001b[39m{\u001b[39;00m\u001b[39mtype\u001b[39m(first_element)\u001b[39m}\u001b[39;00m\u001b[39m. \u001b[39m\u001b[39m\"\u001b[39m\n\u001b[1;32m   2998\u001b[0m             \u001b[39m\"\u001b[39m\u001b[39mShould be one of a python, numpy, pytorch or tensorflow object.\u001b[39m\u001b[39m\"\u001b[39m\n\u001b[1;32m   2999\u001b[0m         )\n\u001b[1;32m   3001\u001b[0m     \u001b[39mfor\u001b[39;00m key, value \u001b[39min\u001b[39;00m encoded_inputs\u001b[39m.\u001b[39mitems():\n\u001b[0;32m-> 3002\u001b[0m         encoded_inputs[key] \u001b[39m=\u001b[39m to_py_obj(value)\n\u001b[1;32m   3004\u001b[0m \u001b[39m# Convert padding_strategy in PaddingStrategy\u001b[39;00m\n\u001b[1;32m   3005\u001b[0m padding_strategy, _, max_length, _ \u001b[39m=\u001b[39m \u001b[39mself\u001b[39m\u001b[39m.\u001b[39m_get_padding_truncation_strategies(\n\u001b[1;32m   3006\u001b[0m     padding\u001b[39m=\u001b[39mpadding, max_length\u001b[39m=\u001b[39mmax_length, verbose\u001b[39m=\u001b[39mverbose\n\u001b[1;32m   3007\u001b[0m )\n",
      "File \u001b[0;32m/opt/anaconda3/envs/torch/lib/python3.11/site-packages/transformers/utils/generic.py:206\u001b[0m, in \u001b[0;36mto_py_obj\u001b[0;34m(obj)\u001b[0m\n\u001b[1;32m    204\u001b[0m     \u001b[39mreturn\u001b[39;00m {k: to_py_obj(v) \u001b[39mfor\u001b[39;00m k, v \u001b[39min\u001b[39;00m obj\u001b[39m.\u001b[39mitems()}\n\u001b[1;32m    205\u001b[0m \u001b[39melif\u001b[39;00m \u001b[39misinstance\u001b[39m(obj, (\u001b[39mlist\u001b[39m, \u001b[39mtuple\u001b[39m)):\n\u001b[0;32m--> 206\u001b[0m     \u001b[39mreturn\u001b[39;00m [to_py_obj(o) \u001b[39mfor\u001b[39;49;00m o \u001b[39min\u001b[39;49;00m obj]\n\u001b[1;32m    207\u001b[0m \u001b[39melif\u001b[39;00m is_tf_tensor(obj):\n\u001b[1;32m    208\u001b[0m     \u001b[39mreturn\u001b[39;00m obj\u001b[39m.\u001b[39mnumpy()\u001b[39m.\u001b[39mtolist()\n",
      "File \u001b[0;32m/opt/anaconda3/envs/torch/lib/python3.11/site-packages/transformers/utils/generic.py:206\u001b[0m, in \u001b[0;36m<listcomp>\u001b[0;34m(.0)\u001b[0m\n\u001b[1;32m    204\u001b[0m     \u001b[39mreturn\u001b[39;00m {k: to_py_obj(v) \u001b[39mfor\u001b[39;00m k, v \u001b[39min\u001b[39;00m obj\u001b[39m.\u001b[39mitems()}\n\u001b[1;32m    205\u001b[0m \u001b[39melif\u001b[39;00m \u001b[39misinstance\u001b[39m(obj, (\u001b[39mlist\u001b[39m, \u001b[39mtuple\u001b[39m)):\n\u001b[0;32m--> 206\u001b[0m     \u001b[39mreturn\u001b[39;00m [to_py_obj(o) \u001b[39mfor\u001b[39;00m o \u001b[39min\u001b[39;00m obj]\n\u001b[1;32m    207\u001b[0m \u001b[39melif\u001b[39;00m is_tf_tensor(obj):\n\u001b[1;32m    208\u001b[0m     \u001b[39mreturn\u001b[39;00m obj\u001b[39m.\u001b[39mnumpy()\u001b[39m.\u001b[39mtolist()\n",
      "File \u001b[0;32m/opt/anaconda3/envs/torch/lib/python3.11/site-packages/transformers/utils/generic.py:199\u001b[0m, in \u001b[0;36mto_py_obj\u001b[0;34m(obj)\u001b[0m\n\u001b[1;32m    193\u001b[0m \u001b[39m    \u001b[39m\u001b[39m\"\"\"\u001b[39;00m\n\u001b[1;32m    194\u001b[0m \u001b[39m    Tests if `x` is a Jax tensor or not. Safe to call even if jax is not installed.\u001b[39;00m\n\u001b[1;32m    195\u001b[0m \u001b[39m    \"\"\"\u001b[39;00m\n\u001b[1;32m    196\u001b[0m     \u001b[39mreturn\u001b[39;00m \u001b[39mFalse\u001b[39;00m \u001b[39mif\u001b[39;00m \u001b[39mnot\u001b[39;00m is_flax_available() \u001b[39melse\u001b[39;00m _is_jax(x)\n\u001b[0;32m--> 199\u001b[0m \u001b[39mdef\u001b[39;00m \u001b[39mto_py_obj\u001b[39m(obj):\n\u001b[1;32m    200\u001b[0m \u001b[39m    \u001b[39m\u001b[39m\"\"\"\u001b[39;00m\n\u001b[1;32m    201\u001b[0m \u001b[39m    Convert a TensorFlow tensor, PyTorch tensor, Numpy array or python list to a python list.\u001b[39;00m\n\u001b[1;32m    202\u001b[0m \u001b[39m    \"\"\"\u001b[39;00m\n\u001b[1;32m    203\u001b[0m     \u001b[39mif\u001b[39;00m \u001b[39misinstance\u001b[39m(obj, (\u001b[39mdict\u001b[39m, UserDict)):\n",
      "\u001b[0;31mKeyboardInterrupt\u001b[0m: "
     ]
    }
   ],
   "source": [
    "%load_ext autoreload\n",
    "%autoreload 2\n",
    "\n",
    "from utils.train import train\n",
    "train_loader1, _ = dataset.get_dataloaders(train_size=0.9, batch_size=16)\n",
    "train_loader2, _ = dataset.get_dataloaders(train_size=0.9, batch_size=32)\n",
    "\n",
    "train_args = {\n",
    "    \"epochs\": 1\n",
    "}\n",
    "\n",
    "heads_props = {\n",
    "    \"two_labels_head\": {\n",
    "        \"train_loader\": train_loader1\n",
    "    },\n",
    "    \"four_labels_head\": {\n",
    "        \"train_loader\": train_loader2\n",
    "    }\n",
    "}\n",
    "\n",
    "train(multi_head_model, heads_props, train_args)"
   ]
  },
  {
   "cell_type": "code",
   "execution_count": null,
   "metadata": {},
   "outputs": [],
   "source": []
  }
 ],
 "metadata": {
  "kernelspec": {
   "display_name": "torch",
   "language": "python",
   "name": "python3"
  },
  "language_info": {
   "codemirror_mode": {
    "name": "ipython",
    "version": 3
   },
   "file_extension": ".py",
   "mimetype": "text/x-python",
   "name": "python",
   "nbconvert_exporter": "python",
   "pygments_lexer": "ipython3",
   "version": "3.11.3"
  },
  "orig_nbformat": 4
 },
 "nbformat": 4,
 "nbformat_minor": 2
}
