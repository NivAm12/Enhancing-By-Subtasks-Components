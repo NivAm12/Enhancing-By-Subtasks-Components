{
 "cells": [
  {
   "cell_type": "code",
   "execution_count": 5,
   "metadata": {},
   "outputs": [],
   "source": [
    "from transformers import AutoConfig, AutoTokenizer, AutoModel\n",
    "from data.acronymDataset import AcronymDataset\n",
    "import torch.nn as nn\n",
    "import pandas as pd"
   ]
  },
  {
   "cell_type": "code",
   "execution_count": 6,
   "metadata": {},
   "outputs": [
    {
     "name": "stderr",
     "output_type": "stream",
     "text": [
      "Some weights of the model checkpoint at microsoft/BiomedNLP-PubMedBERT-base-uncased-abstract-fulltext were not used when initializing BertModel: ['cls.seq_relationship.bias', 'cls.predictions.bias', 'cls.predictions.transform.dense.weight', 'cls.predictions.decoder.weight', 'cls.predictions.transform.LayerNorm.bias', 'cls.predictions.decoder.bias', 'cls.seq_relationship.weight', 'cls.predictions.transform.dense.bias', 'cls.predictions.transform.LayerNorm.weight']\n",
      "- This IS expected if you are initializing BertModel from the checkpoint of a model trained on another task or with another architecture (e.g. initializing a BertForSequenceClassification model from a BertForPreTraining model).\n",
      "- This IS NOT expected if you are initializing BertModel from the checkpoint of a model that you expect to be exactly identical (initializing a BertForSequenceClassification model from a BertForSequenceClassification model).\n"
     ]
    }
   ],
   "source": [
    "model_name = 'microsoft/BiomedNLP-PubMedBERT-base-uncased-abstract-fulltext'\n",
    "tokenizer = AutoTokenizer.from_pretrained(model_name)\n",
    "pre_trained_model = AutoModel.from_pretrained(model_name)\n",
    "config = AutoConfig.from_pretrained(model_name)"
   ]
  },
  {
   "cell_type": "code",
   "execution_count": 7,
   "metadata": {},
   "outputs": [
    {
     "data": {
      "text/html": [
       "<div>\n",
       "<style scoped>\n",
       "    .dataframe tbody tr th:only-of-type {\n",
       "        vertical-align: middle;\n",
       "    }\n",
       "\n",
       "    .dataframe tbody tr th {\n",
       "        vertical-align: top;\n",
       "    }\n",
       "\n",
       "    .dataframe thead th {\n",
       "        text-align: right;\n",
       "    }\n",
       "</style>\n",
       "<table border=\"1\" class=\"dataframe\">\n",
       "  <thead>\n",
       "    <tr style=\"text-align: right;\">\n",
       "      <th></th>\n",
       "      <th>source_sentence</th>\n",
       "      <th>compare_sentence</th>\n",
       "      <th>label</th>\n",
       "      <th>acronym</th>\n",
       "    </tr>\n",
       "  </thead>\n",
       "  <tbody>\n",
       "    <tr>\n",
       "      <th>0</th>\n",
       "      <td>_%#NAME#%_ _%#NAME#%_ is a 29-year-old gravida...</td>\n",
       "      <td>_%#NAME#%_ _%#NAME#%_ is a 29-year-old gravida...</td>\n",
       "      <td>1</td>\n",
       "      <td>AB</td>\n",
       "    </tr>\n",
       "    <tr>\n",
       "      <th>1</th>\n",
       "      <td>She is now bleeding quite heavily. Ultrasound ...</td>\n",
       "      <td>She is now bleeding quite heavily. Ultrasound ...</td>\n",
       "      <td>1</td>\n",
       "      <td>AB</td>\n",
       "    </tr>\n",
       "    <tr>\n",
       "      <th>2</th>\n",
       "      <td>ALLERGIES: Heparin and Imitrex. PAST OB HISTOR...</td>\n",
       "      <td>ALLERGIES: Heparin and Imitrex. PAST OB HISTOR...</td>\n",
       "      <td>1</td>\n",
       "      <td>AB</td>\n",
       "    </tr>\n",
       "    <tr>\n",
       "      <th>3</th>\n",
       "      <td>She had a pelvic ultrasound at Park Nicollet o...</td>\n",
       "      <td>She had a pelvic ultrasound at Park Nicollet o...</td>\n",
       "      <td>1</td>\n",
       "      <td>AB</td>\n",
       "    </tr>\n",
       "    <tr>\n",
       "      <th>4</th>\n",
       "      <td>On _%#MMDD2007#%_, normal anatomy with anterio...</td>\n",
       "      <td>On _%#MMDD2007#%_, normal anatomy with anterio...</td>\n",
       "      <td>1</td>\n",
       "      <td>AB</td>\n",
       "    </tr>\n",
       "    <tr>\n",
       "      <th>...</th>\n",
       "      <td>...</td>\n",
       "      <td>...</td>\n",
       "      <td>...</td>\n",
       "      <td>...</td>\n",
       "    </tr>\n",
       "    <tr>\n",
       "      <th>37495</th>\n",
       "      <td>1. Multiple myeloma, undergoing chemotherapy. ...</td>\n",
       "      <td>1. Multiple myeloma, undergoing chemotherapy. ...</td>\n",
       "      <td>1</td>\n",
       "      <td>VAD</td>\n",
       "    </tr>\n",
       "    <tr>\n",
       "      <th>37496</th>\n",
       "      <td>He has been receiving weekly Procrit injection...</td>\n",
       "      <td>He has been receiving weekly Procrit injection...</td>\n",
       "      <td>1</td>\n",
       "      <td>VAD</td>\n",
       "    </tr>\n",
       "    <tr>\n",
       "      <th>37497</th>\n",
       "      <td>Within a month, he developed recurrent hip pai...</td>\n",
       "      <td>Within a month, he developed recurrent hip pai...</td>\n",
       "      <td>1</td>\n",
       "      <td>VAD</td>\n",
       "    </tr>\n",
       "    <tr>\n",
       "      <th>37498</th>\n",
       "      <td>He had a serum protein electrophoresis with a ...</td>\n",
       "      <td>He had a serum protein electrophoresis with a ...</td>\n",
       "      <td>1</td>\n",
       "      <td>VAD</td>\n",
       "    </tr>\n",
       "    <tr>\n",
       "      <th>37499</th>\n",
       "      <td>DISCHARGE DIAGNOSES: Multiple myeloma. PROCEDU...</td>\n",
       "      <td>DISCHARGE DIAGNOSES: Multiple myeloma. PROCEDU...</td>\n",
       "      <td>1</td>\n",
       "      <td>VAD</td>\n",
       "    </tr>\n",
       "  </tbody>\n",
       "</table>\n",
       "<p>37500 rows × 4 columns</p>\n",
       "</div>"
      ],
      "text/plain": [
       "                                         source_sentence   \n",
       "0      _%#NAME#%_ _%#NAME#%_ is a 29-year-old gravida...  \\\n",
       "1      She is now bleeding quite heavily. Ultrasound ...   \n",
       "2      ALLERGIES: Heparin and Imitrex. PAST OB HISTOR...   \n",
       "3      She had a pelvic ultrasound at Park Nicollet o...   \n",
       "4      On _%#MMDD2007#%_, normal anatomy with anterio...   \n",
       "...                                                  ...   \n",
       "37495  1. Multiple myeloma, undergoing chemotherapy. ...   \n",
       "37496  He has been receiving weekly Procrit injection...   \n",
       "37497  Within a month, he developed recurrent hip pai...   \n",
       "37498  He had a serum protein electrophoresis with a ...   \n",
       "37499  DISCHARGE DIAGNOSES: Multiple myeloma. PROCEDU...   \n",
       "\n",
       "                                        compare_sentence  label acronym  \n",
       "0      _%#NAME#%_ _%#NAME#%_ is a 29-year-old gravida...      1      AB  \n",
       "1      She is now bleeding quite heavily. Ultrasound ...      1      AB  \n",
       "2      ALLERGIES: Heparin and Imitrex. PAST OB HISTOR...      1      AB  \n",
       "3      She had a pelvic ultrasound at Park Nicollet o...      1      AB  \n",
       "4      On _%#MMDD2007#%_, normal anatomy with anterio...      1      AB  \n",
       "...                                                  ...    ...     ...  \n",
       "37495  1. Multiple myeloma, undergoing chemotherapy. ...      1     VAD  \n",
       "37496  He has been receiving weekly Procrit injection...      1     VAD  \n",
       "37497  Within a month, he developed recurrent hip pai...      1     VAD  \n",
       "37498  He had a serum protein electrophoresis with a ...      1     VAD  \n",
       "37499  DISCHARGE DIAGNOSES: Multiple myeloma. PROCEDU...      1     VAD  \n",
       "\n",
       "[37500 rows x 4 columns]"
      ]
     },
     "execution_count": 7,
     "metadata": {},
     "output_type": "execute_result"
    }
   ],
   "source": [
    "file_path = 'data/acronym_data.txt'\n",
    "data = []\n",
    "\n",
    "with open(file_path, \"r\", errors='ignore') as file:\n",
    "    for line in file.readlines():\n",
    "        split = line.strip().split('|')\n",
    "        \n",
    "        # build the sentence structure\n",
    "        source_sentence = split[6]\n",
    "        full_name = split[1]\n",
    "        compare_sentence = source_sentence[:int(split[3])] + full_name + source_sentence[int(split[4]) + 1:]\n",
    "\n",
    "        row = {\n",
    "            'source_sentence': source_sentence,\n",
    "            'compare_sentence': compare_sentence,\n",
    "            'label': 1,\n",
    "            'acronym': split[0]\n",
    "        }\n",
    "        data.append(row)\n",
    "\n",
    "data_dict = {key: [item[key] for item in data] for key in data[0]}\n",
    "dataset = pd.DataFrame.from_dict(data_dict)\n"
   ]
  },
  {
   "cell_type": "code",
   "execution_count": 13,
   "metadata": {},
   "outputs": [
    {
     "data": {
      "text/plain": [
       "\"See history below for likely etiology of the patient's endocarditis. PAST MEDICAL HISTORY: 1. The patient had a CAB and AVR with St. Jude valve in 1997. The patient subsequently developed third-degree heart block about a year ago and had a pacer placed and had this pacer replaced approximately 4 months ago secondary to one of the leads malfunctioning.\""
      ]
     },
     "execution_count": 13,
     "metadata": {},
     "output_type": "execute_result"
    }
   ],
   "source": [
    "groups = dataset.groupby('acronym')\n",
    "groups.get_group('AVR')"
   ]
  },
  {
   "attachments": {},
   "cell_type": "markdown",
   "metadata": {},
   "source": [
    "Test with the data"
   ]
  },
  {
   "cell_type": "code",
   "execution_count": 3,
   "metadata": {},
   "outputs": [],
   "source": [
    "file_path = 'data/acronym_data.txt'\n",
    "dataset = AcronymDataset(file_path=file_path)\n",
    "dataset = dataset.data"
   ]
  },
  {
   "cell_type": "code",
   "execution_count": 4,
   "metadata": {},
   "outputs": [
    {
     "data": {
      "text/plain": [
       "{'source_sentence': \"She is morbidly obese at 300 pounds, and at that time in _%#MM#%_ of 2001, she defined a dysfunction, irregular bleeding pattern and has a history of a vacuum curettage in _%#MM2001#%_ for an early missed AB at approximately 7 weeks gestation. That was accomplished without difficulty. The patient's blood type is AB positive. She has continued to do well on previous Provera cycling which she has been undergoing.\",\n",
       " 'compare_sentence': \"She is morbidly obese at 300 pounds, and at that time in _%#MM#%_ of 2001, she defined a dysfunction, irregular bleeding pattern and has a history of a vacuum curettage in _%#MM2001#%_ for an early missed abortion at approximately 7 weeks gestation. That was accomplished without difficulty. The patient's blood type is AB positive. She has continued to do well on previous Provera cycling which she has been undergoing.\",\n",
       " 'label': 1,\n",
       " 'acronym': 'AB'}"
      ]
     },
     "execution_count": 4,
     "metadata": {},
     "output_type": "execute_result"
    }
   ],
   "source": [
    "tokens = tokenizer(dataset[0]['source_sentence'], dataset[0]['compare_sentence'], return_tensors='pt')\n",
    "dataset[16]"
   ]
  },
  {
   "cell_type": "code",
   "execution_count": 6,
   "metadata": {},
   "outputs": [],
   "source": [
    "from models.multiHeadModel import MultiHeadModel\n",
    "from models.heads import ClassificationHead"
   ]
  },
  {
   "cell_type": "code",
   "execution_count": 7,
   "metadata": {},
   "outputs": [],
   "source": [
    "in_features = config.hidden_size\n",
    "two_labels_head = ClassificationHead(in_features=in_features, out_features=2)\n",
    "four_labels_head = ClassificationHead(in_features=in_features, out_features=4)\n",
    "\n",
    "classifiers = [two_labels_head, four_labels_head]\n"
   ]
  },
  {
   "cell_type": "code",
   "execution_count": 8,
   "metadata": {},
   "outputs": [],
   "source": [
    "multi_head_model = MultiHeadModel(pre_trained_model, classifiers)"
   ]
  },
  {
   "cell_type": "code",
   "execution_count": 9,
   "metadata": {},
   "outputs": [
    {
     "data": {
      "text/plain": [
       "tensor([[0.4202, 0.5524]], grad_fn=<SigmoidBackward0>)"
      ]
     },
     "execution_count": 9,
     "metadata": {},
     "output_type": "execute_result"
    }
   ],
   "source": [
    "output = multi_head_model(tokens, 0)\n",
    "output"
   ]
  },
  {
   "cell_type": "code",
   "execution_count": 10,
   "metadata": {},
   "outputs": [
    {
     "data": {
      "text/plain": [
       "tensor([[0.4424, 0.4114, 0.5453, 0.5039]], grad_fn=<SigmoidBackward0>)"
      ]
     },
     "execution_count": 10,
     "metadata": {},
     "output_type": "execute_result"
    }
   ],
   "source": [
    "output = multi_head_model(tokens, 1)\n",
    "output"
   ]
  },
  {
   "attachments": {},
   "cell_type": "markdown",
   "metadata": {},
   "source": [
    "Insert a layer in the middle"
   ]
  },
  {
   "cell_type": "code",
   "execution_count": null,
   "metadata": {},
   "outputs": [],
   "source": [
    "def create_classifier_layer(layer_to_insert):\n",
    "    till_layer_to_insert = pre_trained_model.encoder.layer[:layer_to_insert]\n",
    "    after_layer_to_insert = pre_trained_model.encoder.layer[layer_to_insert:]\n",
    "    model_with_middle_classifier = till_layer_to_insert + [nn.Linear(768, 2)] + after_layer_to_insert\n",
    "\n",
    "    return model_with_middle_classifier"
   ]
  },
  {
   "cell_type": "code",
   "execution_count": null,
   "metadata": {},
   "outputs": [],
   "source": [
    "model_with_middle_classifier = create_classifier_layer(layer_to_insert=4)\n",
    "model_with_middle_classifier"
   ]
  }
 ],
 "metadata": {
  "kernelspec": {
   "display_name": "torch",
   "language": "python",
   "name": "python3"
  },
  "language_info": {
   "codemirror_mode": {
    "name": "ipython",
    "version": 3
   },
   "file_extension": ".py",
   "mimetype": "text/x-python",
   "name": "python",
   "nbconvert_exporter": "python",
   "pygments_lexer": "ipython3",
   "version": "3.11.3"
  },
  "orig_nbformat": 4
 },
 "nbformat": 4,
 "nbformat_minor": 2
}
