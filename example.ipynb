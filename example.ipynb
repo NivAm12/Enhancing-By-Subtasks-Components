{
 "cells": [
  {
   "cell_type": "code",
   "execution_count": 81,
   "metadata": {},
   "outputs": [],
   "source": [
    "from transformers import AutoConfig, AutoTokenizer, AutoModel\n",
    "from data.acronymDataset import AcronymDataset\n",
    "from evaluate import load\n",
    "import numpy as np"
   ]
  },
  {
   "cell_type": "code",
   "execution_count": 3,
   "metadata": {},
   "outputs": [
    {
     "name": "stderr",
     "output_type": "stream",
     "text": [
      "Some weights of the model checkpoint at microsoft/BiomedNLP-PubMedBERT-base-uncased-abstract-fulltext were not used when initializing BertModel: ['cls.predictions.transform.LayerNorm.weight', 'cls.predictions.bias', 'cls.seq_relationship.weight', 'cls.seq_relationship.bias', 'cls.predictions.decoder.bias', 'cls.predictions.transform.LayerNorm.bias', 'cls.predictions.transform.dense.weight', 'cls.predictions.decoder.weight', 'cls.predictions.transform.dense.bias']\n",
      "- This IS expected if you are initializing BertModel from the checkpoint of a model trained on another task or with another architecture (e.g. initializing a BertForSequenceClassification model from a BertForPreTraining model).\n",
      "- This IS NOT expected if you are initializing BertModel from the checkpoint of a model that you expect to be exactly identical (initializing a BertForSequenceClassification model from a BertForSequenceClassification model).\n"
     ]
    }
   ],
   "source": [
    "model_name = 'microsoft/BiomedNLP-PubMedBERT-base-uncased-abstract-fulltext'\n",
    "config = AutoConfig.from_pretrained(model_name)\n",
    "tokenizer = AutoTokenizer.from_pretrained(model_name, model_max_length=config.max_position_embeddings)\n",
    "pre_trained_model = AutoModel.from_pretrained(model_name)"
   ]
  },
  {
   "attachments": {},
   "cell_type": "markdown",
   "metadata": {},
   "source": [
    "Test with the data"
   ]
  },
  {
   "cell_type": "code",
   "execution_count": 66,
   "metadata": {},
   "outputs": [
    {
     "name": "stdout",
     "output_type": "stream",
     "text": [
      "The autoreload extension is already loaded. To reload it, use:\n",
      "  %reload_ext autoreload\n"
     ]
    }
   ],
   "source": [
    "%load_ext autoreload\n",
    "%autoreload 2\n",
    "file_path = 'data/acronym_data.txt'\n",
    "dataset = AcronymDataset(file_path=file_path, tokenizer=tokenizer)\n",
    "data = dataset.data"
   ]
  },
  {
   "cell_type": "code",
   "execution_count": 67,
   "metadata": {},
   "outputs": [
    {
     "name": "stderr",
     "output_type": "stream",
     "text": [
      "                                                                   \r"
     ]
    }
   ],
   "source": [
    "dataset.preprocss_dataset()"
   ]
  },
  {
   "cell_type": "code",
   "execution_count": 69,
   "metadata": {},
   "outputs": [
    {
     "name": "stdout",
     "output_type": "stream",
     "text": [
      "The autoreload extension is already loaded. To reload it, use:\n",
      "  %reload_ext autoreload\n"
     ]
    }
   ],
   "source": [
    "%load_ext autoreload\n",
    "%autoreload 2\n",
    "train_loader, val_loader = dataset.get_dataloaders(train_size=0.9, batch_size=16)"
   ]
  },
  {
   "cell_type": "code",
   "execution_count": 80,
   "metadata": {},
   "outputs": [
    {
     "name": "stdout",
     "output_type": "stream",
     "text": [
      "torch.Size([16, 246])\n",
      "torch.Size([16, 329])\n",
      "torch.Size([16, 274])\n",
      "torch.Size([16, 291])\n",
      "torch.Size([16, 474])\n",
      "torch.Size([16, 319])\n",
      "torch.Size([16, 269])\n",
      "torch.Size([16, 274])\n",
      "torch.Size([16, 310])\n",
      "torch.Size([16, 413])\n",
      "torch.Size([16, 333])\n",
      "torch.Size([16, 283])\n",
      "torch.Size([16, 323])\n",
      "torch.Size([16, 339])\n",
      "torch.Size([16, 354])\n",
      "torch.Size([16, 356])\n",
      "torch.Size([16, 512])\n",
      "torch.Size([16, 257])\n",
      "torch.Size([16, 262])\n",
      "torch.Size([16, 270])\n",
      "torch.Size([16, 282])\n",
      "torch.Size([16, 276])\n",
      "torch.Size([16, 270])\n",
      "torch.Size([16, 414])\n",
      "torch.Size([16, 420])\n",
      "torch.Size([16, 274])\n",
      "torch.Size([16, 257])\n",
      "torch.Size([16, 302])\n",
      "torch.Size([16, 334])\n",
      "torch.Size([16, 286])\n",
      "torch.Size([16, 260])\n",
      "torch.Size([16, 282])\n",
      "torch.Size([16, 312])\n",
      "torch.Size([16, 298])\n",
      "torch.Size([16, 297])\n",
      "torch.Size([16, 267])\n",
      "torch.Size([16, 351])\n",
      "torch.Size([16, 279])\n",
      "torch.Size([16, 368])\n",
      "torch.Size([16, 346])\n",
      "torch.Size([16, 267])\n",
      "torch.Size([16, 312])\n",
      "torch.Size([16, 512])\n",
      "torch.Size([16, 304])\n",
      "torch.Size([16, 260])\n",
      "torch.Size([16, 270])\n",
      "torch.Size([16, 280])\n",
      "torch.Size([16, 320])\n",
      "torch.Size([16, 313])\n",
      "torch.Size([16, 244])\n",
      "torch.Size([16, 379])\n",
      "torch.Size([16, 306])\n",
      "torch.Size([16, 290])\n",
      "torch.Size([16, 333])\n",
      "torch.Size([16, 274])\n",
      "torch.Size([16, 309])\n",
      "torch.Size([16, 451])\n",
      "torch.Size([16, 265])\n",
      "torch.Size([16, 288])\n",
      "torch.Size([16, 390])\n",
      "torch.Size([16, 395])\n",
      "torch.Size([16, 239])\n",
      "torch.Size([16, 312])\n",
      "torch.Size([16, 307])\n",
      "torch.Size([16, 275])\n",
      "torch.Size([16, 412])\n",
      "torch.Size([16, 258])\n",
      "torch.Size([16, 279])\n",
      "torch.Size([16, 327])\n",
      "torch.Size([16, 308])\n",
      "torch.Size([16, 343])\n",
      "torch.Size([16, 295])\n",
      "torch.Size([16, 343])\n",
      "torch.Size([16, 281])\n",
      "torch.Size([16, 272])\n",
      "torch.Size([16, 313])\n",
      "torch.Size([16, 262])\n",
      "torch.Size([16, 267])\n",
      "torch.Size([16, 255])\n",
      "torch.Size([16, 333])\n",
      "torch.Size([16, 358])\n",
      "torch.Size([16, 388])\n",
      "torch.Size([16, 313])\n",
      "torch.Size([16, 284])\n",
      "torch.Size([16, 329])\n",
      "torch.Size([16, 295])\n",
      "torch.Size([16, 298])\n",
      "torch.Size([16, 293])\n",
      "torch.Size([16, 427])\n",
      "torch.Size([16, 358])\n",
      "torch.Size([16, 220])\n",
      "torch.Size([16, 316])\n",
      "torch.Size([16, 306])\n",
      "torch.Size([16, 397])\n",
      "torch.Size([16, 308])\n",
      "torch.Size([16, 434])\n",
      "torch.Size([16, 258])\n",
      "torch.Size([16, 322])\n",
      "torch.Size([16, 262])\n",
      "torch.Size([16, 345])\n",
      "torch.Size([16, 289])\n",
      "torch.Size([16, 488])\n",
      "torch.Size([16, 298])\n",
      "torch.Size([16, 287])\n",
      "torch.Size([16, 255])\n",
      "torch.Size([16, 252])\n",
      "torch.Size([16, 373])\n",
      "torch.Size([16, 303])\n",
      "torch.Size([16, 247])\n",
      "torch.Size([16, 329])\n",
      "torch.Size([16, 321])\n",
      "torch.Size([16, 512])\n",
      "torch.Size([16, 264])\n",
      "torch.Size([16, 304])\n",
      "torch.Size([16, 265])\n",
      "torch.Size([16, 328])\n",
      "torch.Size([16, 350])\n",
      "torch.Size([16, 290])\n",
      "torch.Size([16, 401])\n",
      "torch.Size([16, 280])\n",
      "torch.Size([16, 434])\n",
      "torch.Size([16, 282])\n",
      "torch.Size([16, 266])\n",
      "torch.Size([16, 313])\n",
      "torch.Size([16, 377])\n",
      "torch.Size([16, 261])\n",
      "torch.Size([16, 237])\n",
      "torch.Size([16, 329])\n",
      "torch.Size([16, 300])\n",
      "torch.Size([16, 351])\n",
      "torch.Size([16, 329])\n",
      "torch.Size([16, 512])\n",
      "torch.Size([16, 291])\n",
      "torch.Size([16, 355])\n",
      "torch.Size([16, 268])\n",
      "torch.Size([16, 471])\n",
      "torch.Size([16, 234])\n",
      "torch.Size([16, 268])\n",
      "torch.Size([16, 512])\n",
      "torch.Size([16, 323])\n",
      "torch.Size([16, 370])\n",
      "torch.Size([16, 248])\n",
      "torch.Size([16, 253])\n",
      "torch.Size([16, 245])\n",
      "torch.Size([16, 315])\n",
      "torch.Size([16, 265])\n",
      "torch.Size([16, 384])\n",
      "torch.Size([16, 318])\n",
      "torch.Size([16, 321])\n",
      "torch.Size([16, 289])\n",
      "torch.Size([16, 283])\n",
      "torch.Size([16, 479])\n",
      "torch.Size([16, 286])\n",
      "torch.Size([16, 293])\n",
      "torch.Size([16, 347])\n",
      "torch.Size([16, 378])\n",
      "torch.Size([16, 435])\n",
      "torch.Size([16, 345])\n",
      "torch.Size([16, 278])\n",
      "torch.Size([16, 455])\n",
      "torch.Size([16, 324])\n",
      "torch.Size([16, 425])\n",
      "torch.Size([16, 304])\n",
      "torch.Size([16, 289])\n",
      "torch.Size([16, 272])\n",
      "torch.Size([16, 263])\n",
      "torch.Size([16, 265])\n",
      "torch.Size([16, 295])\n",
      "torch.Size([16, 246])\n",
      "torch.Size([16, 322])\n",
      "torch.Size([16, 270])\n",
      "torch.Size([16, 242])\n",
      "torch.Size([16, 290])\n",
      "torch.Size([16, 320])\n",
      "torch.Size([16, 241])\n",
      "torch.Size([16, 348])\n",
      "torch.Size([16, 267])\n",
      "torch.Size([16, 245])\n",
      "torch.Size([16, 333])\n",
      "torch.Size([16, 280])\n",
      "torch.Size([16, 358])\n",
      "torch.Size([16, 362])\n",
      "torch.Size([16, 317])\n",
      "torch.Size([16, 304])\n",
      "torch.Size([16, 231])\n",
      "torch.Size([16, 342])\n",
      "torch.Size([16, 320])\n",
      "torch.Size([16, 364])\n",
      "torch.Size([16, 242])\n",
      "torch.Size([16, 273])\n",
      "torch.Size([16, 448])\n",
      "torch.Size([16, 288])\n",
      "torch.Size([16, 211])\n",
      "torch.Size([16, 448])\n",
      "torch.Size([16, 263])\n",
      "torch.Size([16, 244])\n",
      "torch.Size([16, 264])\n",
      "torch.Size([16, 295])\n",
      "torch.Size([16, 409])\n",
      "torch.Size([16, 512])\n",
      "torch.Size([16, 338])\n",
      "torch.Size([16, 461])\n",
      "torch.Size([16, 512])\n",
      "torch.Size([16, 442])\n",
      "torch.Size([16, 300])\n",
      "torch.Size([16, 285])\n",
      "torch.Size([16, 311])\n",
      "torch.Size([16, 265])\n",
      "torch.Size([16, 237])\n",
      "torch.Size([16, 311])\n",
      "torch.Size([16, 342])\n",
      "torch.Size([16, 234])\n",
      "torch.Size([16, 304])\n",
      "torch.Size([16, 358])\n",
      "torch.Size([16, 314])\n",
      "torch.Size([16, 334])\n",
      "torch.Size([16, 379])\n",
      "torch.Size([16, 261])\n",
      "torch.Size([16, 277])\n",
      "torch.Size([16, 329])\n",
      "torch.Size([16, 373])\n",
      "torch.Size([16, 259])\n",
      "torch.Size([16, 320])\n",
      "torch.Size([16, 403])\n",
      "torch.Size([16, 293])\n",
      "torch.Size([16, 271])\n",
      "torch.Size([16, 361])\n",
      "torch.Size([16, 386])\n",
      "torch.Size([16, 309])\n",
      "torch.Size([16, 270])\n",
      "torch.Size([16, 287])\n",
      "torch.Size([16, 329])\n",
      "torch.Size([16, 260])\n",
      "torch.Size([16, 298])\n",
      "torch.Size([16, 375])\n",
      "torch.Size([16, 340])\n",
      "torch.Size([16, 457])\n",
      "torch.Size([16, 434])\n",
      "torch.Size([16, 287])\n",
      "torch.Size([16, 316])\n",
      "torch.Size([16, 261])\n",
      "torch.Size([16, 322])\n",
      "torch.Size([16, 288])\n",
      "torch.Size([16, 307])\n",
      "torch.Size([16, 268])\n",
      "torch.Size([16, 512])\n",
      "torch.Size([16, 311])\n",
      "torch.Size([16, 318])\n",
      "torch.Size([16, 350])\n",
      "torch.Size([16, 320])\n",
      "torch.Size([16, 280])\n",
      "torch.Size([16, 279])\n",
      "torch.Size([16, 351])\n",
      "torch.Size([16, 305])\n",
      "torch.Size([16, 298])\n",
      "torch.Size([16, 342])\n",
      "torch.Size([16, 320])\n",
      "torch.Size([16, 306])\n",
      "torch.Size([16, 401])\n",
      "torch.Size([16, 319])\n",
      "torch.Size([16, 282])\n",
      "torch.Size([16, 286])\n",
      "torch.Size([16, 403])\n",
      "torch.Size([16, 390])\n",
      "torch.Size([16, 395])\n",
      "torch.Size([16, 324])\n",
      "torch.Size([16, 320])\n",
      "torch.Size([16, 244])\n",
      "torch.Size([16, 280])\n"
     ]
    },
    {
     "ename": "KeyboardInterrupt",
     "evalue": "",
     "output_type": "error",
     "traceback": [
      "\u001b[0;31m---------------------------------------------------------------------------\u001b[0m",
      "\u001b[0;31mKeyboardInterrupt\u001b[0m                         Traceback (most recent call last)",
      "Cell \u001b[0;32mIn[80], line 1\u001b[0m\n\u001b[0;32m----> 1\u001b[0m \u001b[39mfor\u001b[39;00m i, batch \u001b[39min\u001b[39;00m \u001b[39menumerate\u001b[39m(train_loader):\n\u001b[1;32m      2\u001b[0m     \u001b[39mprint\u001b[39m(batch[\u001b[39m\"\u001b[39m\u001b[39minput_ids\u001b[39m\u001b[39m\"\u001b[39m]\u001b[39m.\u001b[39mshape)\n",
      "File \u001b[0;32m/opt/anaconda3/envs/torch/lib/python3.11/site-packages/torch/utils/data/dataloader.py:633\u001b[0m, in \u001b[0;36m_BaseDataLoaderIter.__next__\u001b[0;34m(self)\u001b[0m\n\u001b[1;32m    630\u001b[0m \u001b[39mif\u001b[39;00m \u001b[39mself\u001b[39m\u001b[39m.\u001b[39m_sampler_iter \u001b[39mis\u001b[39;00m \u001b[39mNone\u001b[39;00m:\n\u001b[1;32m    631\u001b[0m     \u001b[39m# TODO(https://github.com/pytorch/pytorch/issues/76750)\u001b[39;00m\n\u001b[1;32m    632\u001b[0m     \u001b[39mself\u001b[39m\u001b[39m.\u001b[39m_reset()  \u001b[39m# type: ignore[call-arg]\u001b[39;00m\n\u001b[0;32m--> 633\u001b[0m data \u001b[39m=\u001b[39m \u001b[39mself\u001b[39;49m\u001b[39m.\u001b[39;49m_next_data()\n\u001b[1;32m    634\u001b[0m \u001b[39mself\u001b[39m\u001b[39m.\u001b[39m_num_yielded \u001b[39m+\u001b[39m\u001b[39m=\u001b[39m \u001b[39m1\u001b[39m\n\u001b[1;32m    635\u001b[0m \u001b[39mif\u001b[39;00m \u001b[39mself\u001b[39m\u001b[39m.\u001b[39m_dataset_kind \u001b[39m==\u001b[39m _DatasetKind\u001b[39m.\u001b[39mIterable \u001b[39mand\u001b[39;00m \\\n\u001b[1;32m    636\u001b[0m         \u001b[39mself\u001b[39m\u001b[39m.\u001b[39m_IterableDataset_len_called \u001b[39mis\u001b[39;00m \u001b[39mnot\u001b[39;00m \u001b[39mNone\u001b[39;00m \u001b[39mand\u001b[39;00m \\\n\u001b[1;32m    637\u001b[0m         \u001b[39mself\u001b[39m\u001b[39m.\u001b[39m_num_yielded \u001b[39m>\u001b[39m \u001b[39mself\u001b[39m\u001b[39m.\u001b[39m_IterableDataset_len_called:\n",
      "File \u001b[0;32m/opt/anaconda3/envs/torch/lib/python3.11/site-packages/torch/utils/data/dataloader.py:677\u001b[0m, in \u001b[0;36m_SingleProcessDataLoaderIter._next_data\u001b[0;34m(self)\u001b[0m\n\u001b[1;32m    675\u001b[0m \u001b[39mdef\u001b[39;00m \u001b[39m_next_data\u001b[39m(\u001b[39mself\u001b[39m):\n\u001b[1;32m    676\u001b[0m     index \u001b[39m=\u001b[39m \u001b[39mself\u001b[39m\u001b[39m.\u001b[39m_next_index()  \u001b[39m# may raise StopIteration\u001b[39;00m\n\u001b[0;32m--> 677\u001b[0m     data \u001b[39m=\u001b[39m \u001b[39mself\u001b[39;49m\u001b[39m.\u001b[39;49m_dataset_fetcher\u001b[39m.\u001b[39;49mfetch(index)  \u001b[39m# may raise StopIteration\u001b[39;00m\n\u001b[1;32m    678\u001b[0m     \u001b[39mif\u001b[39;00m \u001b[39mself\u001b[39m\u001b[39m.\u001b[39m_pin_memory:\n\u001b[1;32m    679\u001b[0m         data \u001b[39m=\u001b[39m _utils\u001b[39m.\u001b[39mpin_memory\u001b[39m.\u001b[39mpin_memory(data, \u001b[39mself\u001b[39m\u001b[39m.\u001b[39m_pin_memory_device)\n",
      "File \u001b[0;32m/opt/anaconda3/envs/torch/lib/python3.11/site-packages/torch/utils/data/_utils/fetch.py:51\u001b[0m, in \u001b[0;36m_MapDatasetFetcher.fetch\u001b[0;34m(self, possibly_batched_index)\u001b[0m\n\u001b[1;32m     49\u001b[0m         data \u001b[39m=\u001b[39m \u001b[39mself\u001b[39m\u001b[39m.\u001b[39mdataset\u001b[39m.\u001b[39m__getitems__(possibly_batched_index)\n\u001b[1;32m     50\u001b[0m     \u001b[39melse\u001b[39;00m:\n\u001b[0;32m---> 51\u001b[0m         data \u001b[39m=\u001b[39m [\u001b[39mself\u001b[39;49m\u001b[39m.\u001b[39;49mdataset[idx] \u001b[39mfor\u001b[39;49;00m idx \u001b[39min\u001b[39;49;00m possibly_batched_index]\n\u001b[1;32m     52\u001b[0m \u001b[39melse\u001b[39;00m:\n\u001b[1;32m     53\u001b[0m     data \u001b[39m=\u001b[39m \u001b[39mself\u001b[39m\u001b[39m.\u001b[39mdataset[possibly_batched_index]\n",
      "File \u001b[0;32m/opt/anaconda3/envs/torch/lib/python3.11/site-packages/torch/utils/data/_utils/fetch.py:51\u001b[0m, in \u001b[0;36m<listcomp>\u001b[0;34m(.0)\u001b[0m\n\u001b[1;32m     49\u001b[0m         data \u001b[39m=\u001b[39m \u001b[39mself\u001b[39m\u001b[39m.\u001b[39mdataset\u001b[39m.\u001b[39m__getitems__(possibly_batched_index)\n\u001b[1;32m     50\u001b[0m     \u001b[39melse\u001b[39;00m:\n\u001b[0;32m---> 51\u001b[0m         data \u001b[39m=\u001b[39m [\u001b[39mself\u001b[39m\u001b[39m.\u001b[39mdataset[idx] \u001b[39mfor\u001b[39;00m idx \u001b[39min\u001b[39;00m possibly_batched_index]\n\u001b[1;32m     52\u001b[0m \u001b[39melse\u001b[39;00m:\n\u001b[1;32m     53\u001b[0m     data \u001b[39m=\u001b[39m \u001b[39mself\u001b[39m\u001b[39m.\u001b[39mdataset[possibly_batched_index]\n",
      "\u001b[0;31mKeyboardInterrupt\u001b[0m: "
     ]
    }
   ],
   "source": [
    "for i, batch in enumerate(train_loader):\n",
    "    print(batch[\"input_ids\"].shape)"
   ]
  },
  {
   "cell_type": "code",
   "execution_count": 72,
   "metadata": {},
   "outputs": [],
   "source": [
    "batch = next(iter(train_loader))"
   ]
  },
  {
   "cell_type": "code",
   "execution_count": 39,
   "metadata": {},
   "outputs": [],
   "source": [
    "from models.multiHeadModel import MultiHeadModel\n",
    "from models.heads import ClassificationHead"
   ]
  },
  {
   "cell_type": "code",
   "execution_count": 73,
   "metadata": {},
   "outputs": [],
   "source": [
    "in_features = config.hidden_size\n",
    "two_labels_head = ClassificationHead(in_features=in_features, out_features=2)\n",
    "four_labels_head = ClassificationHead(in_features=in_features, out_features=4)\n",
    "\n",
    "classifiers = [two_labels_head, four_labels_head]\n"
   ]
  },
  {
   "cell_type": "code",
   "execution_count": 74,
   "metadata": {},
   "outputs": [],
   "source": [
    "multi_head_model = MultiHeadModel(pre_trained_model, classifiers)"
   ]
  },
  {
   "cell_type": "code",
   "execution_count": 75,
   "metadata": {},
   "outputs": [
    {
     "data": {
      "text/plain": [
       "tensor([[0.5152, 0.4353],\n",
       "        [0.5096, 0.4345],\n",
       "        [0.5118, 0.4289],\n",
       "        [0.5214, 0.4492],\n",
       "        [0.5024, 0.4435],\n",
       "        [0.5210, 0.4184],\n",
       "        [0.5176, 0.4250],\n",
       "        [0.4991, 0.4375],\n",
       "        [0.5063, 0.4391],\n",
       "        [0.5033, 0.4364],\n",
       "        [0.5077, 0.4114],\n",
       "        [0.5084, 0.4114],\n",
       "        [0.5083, 0.4325],\n",
       "        [0.5055, 0.4319],\n",
       "        [0.5112, 0.4492],\n",
       "        [0.5009, 0.4470]], grad_fn=<SigmoidBackward0>)"
      ]
     },
     "execution_count": 75,
     "metadata": {},
     "output_type": "execute_result"
    }
   ],
   "source": [
    "\n",
    "output = multi_head_model(batch, 0)\n",
    "output"
   ]
  },
  {
   "cell_type": "code",
   "execution_count": 83,
   "metadata": {},
   "outputs": [
    {
     "data": {
      "text/plain": [
       "{'accuracy': 0.25}"
      ]
     },
     "execution_count": 83,
     "metadata": {},
     "output_type": "execute_result"
    }
   ],
   "source": [
    "metric = load(\"accuracy\")\n",
    "labels = batch['labels']\n",
    "predictions = np.argmax(output.detach().numpy(), axis=-1)\n",
    "res = metric.compute(predictions=predictions, references=labels)\n",
    "\n",
    "res"
   ]
  },
  {
   "cell_type": "code",
   "execution_count": 9,
   "metadata": {},
   "outputs": [
    {
     "data": {
      "text/plain": [
       "tensor([[0.5332, 0.4287, 0.5225, 0.5521]], grad_fn=<SigmoidBackward0>)"
      ]
     },
     "execution_count": 9,
     "metadata": {},
     "output_type": "execute_result"
    }
   ],
   "source": [
    "output = multi_head_model(batch, 1)\n",
    "output"
   ]
  }
 ],
 "metadata": {
  "kernelspec": {
   "display_name": "torch",
   "language": "python",
   "name": "python3"
  },
  "language_info": {
   "codemirror_mode": {
    "name": "ipython",
    "version": 3
   },
   "file_extension": ".py",
   "mimetype": "text/x-python",
   "name": "python",
   "nbconvert_exporter": "python",
   "pygments_lexer": "ipython3",
   "version": "3.11.3"
  },
  "orig_nbformat": 4
 },
 "nbformat": 4,
 "nbformat_minor": 2
}
